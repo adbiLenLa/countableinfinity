{
 "cells": [
  {
   "cell_type": "code",
   "execution_count": 1,
   "id": "2364fb52",
   "metadata": {},
   "outputs": [],
   "source": [
    "sam = \"\"\"\n",
    "# \n",
    "#  the book of ozazL\n",
    "# zavTu transliteration\n",
    "# by john.david jones\n",
    "# ozazL\n",
    "#\n",
    "#  abcde\n",
    "#  fghij\n",
    "#  kLmno\n",
    "#  pqrsT\n",
    "#  tuvxz\n",
    "#--\n",
    "#  a as in father\n",
    "#  b as in baby\n",
    "#  c as in chess\n",
    "#  d as in day\n",
    "#  e as in help\n",
    "#  f as in father\n",
    "#  g as in good\n",
    "#  h as in hello \n",
    "#  i as in me\n",
    "#  j as in jupiter\n",
    "#  k as in katherine\n",
    "#  L as in lamb\n",
    "#  m as in make\n",
    "#  n as in now\n",
    "#  o as in open \n",
    "#  p as in padre\n",
    "#  q as in quickly\n",
    "#  r as in rope\n",
    "#  s as in simple\n",
    "#  T like Today\n",
    "#  t as in thanks\n",
    "#  u as in Tube\n",
    "#  v as in very\n",
    "#  x as is nexT\n",
    "#  z as in zebra\n",
    "#--\n",
    "#  one syllable per vowel\n",
    "#  ubzeiu -> ub-ze-i-u \n",
    "\"\"\""
   ]
  },
  {
   "cell_type": "code",
   "execution_count": 4,
   "id": "1bb0e39e",
   "metadata": {},
   "outputs": [],
   "source": [
    "import re\n",
    "fi0 = open(\"ozazL_11b9g.txt\")\n",
    "L_0 = fi0.readlines()\n",
    "b_i = 0\n",
    "b_L = len(L_0)\n",
    "while 'ozazL718' not in L_0[0] and b_i < b_L:\n",
    "    L_0.pop(0)\n",
    "    b_i += 1\n",
    "    \n",
    "L_0a = []\n",
    "for o_ in L_0:\n",
    "    if '#' not in o_:\n",
    "        L_0a.append(o_)\n",
    "LL_ = []\n",
    "for o_ in L_0a:\n",
    "    L_ = re.split(':', o_)\n",
    "    if len(L_) == 2:\n",
    "        LL_.append(L_)\n",
    "        \n",
    "su_ = \"\"\n",
    "\n",
    "fiu = open('ozazL718.txt', 'w')\n",
    "fiu.write(sam)\n",
    "fiu.write('\\n\\n')\n",
    "b_i = 0\n",
    "for L_ in LL_:\n",
    "    su_ = f'{L_[1].strip()} '\n",
    "    fiu.write(su_)\n",
    "    b_i += 1\n",
    "    if b_i % 10 == 0:\n",
    "        fiu.write('\\n')\n",
    "    if 'bobo' in su_:\n",
    "        fiu.write('\\n\\n')\n",
    "\n",
    "fiu.close()\n",
    "#su_"
   ]
  },
  {
   "cell_type": "code",
   "execution_count": null,
   "id": "7cdcabab",
   "metadata": {},
   "outputs": [],
   "source": []
  },
  {
   "cell_type": "code",
   "execution_count": 28,
   "id": "f25bf168",
   "metadata": {},
   "outputs": [
    {
     "data": {
      "text/plain": [
       "98725"
      ]
     },
     "execution_count": 28,
     "metadata": {},
     "output_type": "execute_result"
    }
   ],
   "source": [
    "len(L_0)"
   ]
  },
  {
   "cell_type": "code",
   "execution_count": 29,
   "id": "4c959301",
   "metadata": {},
   "outputs": [],
   "source": [
    "def der(ba, bex): \n",
    "    b_ = ba * bex\n",
    "    b__ = bex - 1\n",
    "    return f'{b_}x^{b__}'"
   ]
  },
  {
   "cell_type": "code",
   "execution_count": 30,
   "id": "047943af",
   "metadata": {},
   "outputs": [
    {
     "data": {
      "text/plain": [
       "'56x^7'"
      ]
     },
     "execution_count": 30,
     "metadata": {},
     "output_type": "execute_result"
    }
   ],
   "source": [
    "der(7,8)"
   ]
  },
  {
   "cell_type": "code",
   "execution_count": 31,
   "id": "b121e4b7",
   "metadata": {},
   "outputs": [],
   "source": [
    "import re\n",
    "b_ = re.match(r'(?i)englireturnsh', \"eNgLisH\")\n",
    "b_"
   ]
  },
  {
   "cell_type": "code",
   "execution_count": 32,
   "id": "e0feb3f0",
   "metadata": {},
   "outputs": [],
   "source": [
    "b_i = 0\n",
    "b_L = len(L_0)\n",
    "while 'ozazL718' not in L_0[0] and b_i < b_L:\n",
    "    L_0.pop(0)\n",
    "    b_i += 1"
   ]
  },
  {
   "cell_type": "code",
   "execution_count": 33,
   "id": "ce46c22c",
   "metadata": {},
   "outputs": [
    {
     "data": {
      "text/plain": [
       "864"
      ]
     },
     "execution_count": 33,
     "metadata": {},
     "output_type": "execute_result"
    }
   ],
   "source": [
    "len(L_0)"
   ]
  },
  {
   "cell_type": "code",
   "execution_count": 18,
   "id": "1c5e8598",
   "metadata": {},
   "outputs": [
    {
     "data": {
      "text/plain": [
       "25"
      ]
     },
     "execution_count": 18,
     "metadata": {},
     "output_type": "execute_result"
    }
   ],
   "source": [
    "soLza = \"abcdefghijkLmnopqrsTtuvxz\"\n",
    "len(soLza)"
   ]
  },
  {
   "cell_type": "code",
   "execution_count": 19,
   "id": "bb0a2258",
   "metadata": {},
   "outputs": [],
   "source": [
    "def gN(si):\n",
    "    soLza = \"abcdefghijkLmnopqrsTtuvxz\"\n",
    "    bu = 0\n",
    "    for g_ in si:\n",
    "        bu += soLza.index(g_)\n",
    "    return bu"
   ]
  },
  {
   "cell_type": "code",
   "execution_count": 20,
   "id": "d6415614",
   "metadata": {},
   "outputs": [
    {
     "data": {
      "text/plain": [
       "73"
      ]
     },
     "execution_count": 20,
     "metadata": {},
     "output_type": "execute_result"
    }
   ],
   "source": [
    "gN('ozazL')"
   ]
  },
  {
   "cell_type": "code",
   "execution_count": 35,
   "id": "507db65c",
   "metadata": {},
   "outputs": [],
   "source": [
    "L_0a = []\n",
    "for o_ in L_0:\n",
    "    if '#' not in o_:\n",
    "        L_0a.append(o_)\n",
    "LL_ = []\n",
    "for o_ in L_0a:\n",
    "    L_ = re.split(':', o_)\n",
    "    if len(L_) == 2:\n",
    "        LL_.append(L_)\n",
    "#print(LL_)\n"
   ]
  },
  {
   "cell_type": "code",
   "execution_count": 40,
   "id": "88656794",
   "metadata": {},
   "outputs": [
    {
     "data": {
      "text/plain": [
       "'eLemza moL uamu ozazL . eLe uamu kutza almegim . da etme kut Lufda sekfamko ueLanad ufamtu eLem duLtu da zavnuTaa qemhe da taqaLamaquT majafhezumo huvuinä da konojduxmo oeqi . Lam bom ofihsizuLka uamu muLaqauni pi da Laihu . fa uamu mot da odanaLeu asu aLaLuie idta Lam ufihsizu . aLaLuie uamu ukezuuLka La a oife zefaeL . eLe uamu da entu zuuxi asu da etme kut aLaLuie hazoet , Lekfatimo , zumtizhinmo kut , utusea Lavexu oxe uLuzaa uL Lamza fitamim fu idta Lam Lou utuseu Lavexu aL eLikam tuuLiL oxe upzuLku a oeqi asu voose oxe uma tu bom da jentuuT asu da iovTa . Lam ueLanad uamo unezuLka boLTavin a tavzupnamo ojivhiu huvuin boncaL oeqiT . qqi fahiza zefaeL uamu def qqu qqi Leqahu ututuu fa uhaimu qiuL fema ueLanad cuhuvhegno La o etme qqu eLe uamu eLikam buuge asu da etme kut . Lam uamu tuvazvhiu da ojivhiu . oxe eLe uzeTu a Lekfatimo eLkan ujuLauLka TuzLa hazani toerehu . so uamu vaemamo . soLza moL uamu opaTi , oxe soLza omiLpiz uamu eLipaTim . so utuseu a fafezbumo qaLusi , qemhe zexu so danaLeu ujevexonjefau Lamza fiTamim fu idta Lam danaLeu utuseu Lavexu aL eLikam tuuLiL . dava uamu nefa dam iLaihumo zaemda huvuin qiugqe tubzahbavu oxe tudfzuriu . uL da suni moL asu jesus qazuhat eLe ubzeia . da hinmumo bentuu uamu fafexqemqumo . fema uamu mot vaetumo huvuin da bivamo bentuu . dava uamu majdez uL da molech asu kut . fa uamu buidvi idta da eLjeuLtmo moL asu da etme uamu fruit . da zavTu bod uamu eLikam asu voqofdeu oxe TazuteuL . Lam uamuLka uL voqfdeu qemhe da fibzinimo bavhaL , aLaLuie hazoet . fuLa asu La uamu quhonmumo hazani toerehu . Lam uamu eLkanim uL da neso . eLe uamu ozazL . def baLmeg uamu hubvuin femaT , eLemza pazaTizim oxe fefgasaTaT uL da zou asu da etme kut Lufda sekfamo . da zefaeL uamu huvuin qiugqe , pit da baLmeg uamu huvuin fema . fema uqaLaru qiqo fema uamu . dava uamu zuuno uL da zavTu . cupamihfamo uamu dufa qiqo unaozma tuvaetu oxe tubisiu zavTu . suni kut asu israeL , ufnaa eLem mit oxe suvu . uama qemhe mit oxe huvazav , o suni botav . eLe uzeTu fema uL da hamoeT idta ufivzaimtu eLem . uL da moL asu jesus qazuhat eLe ufiLnaLa da suni samgu , . uLuzaa oxe uebiova , mit oxe suvu , o suni samgu , adaLao . utuhenmaa eLemza fitam oxe otumqoa zuuno oxe kumazu , o suni samgu . eLe uamu odtivmizi emaLi . utusea Lavexu oxe uabiLa da zuo huvuin eLemza pazaTizim oxe fefgasaTaT tunoudeu eLem uL def oqoLu . eLe uamu unooLjemquLka Lifansu here . eLe ufavriu da eLikam entu kut . dava uamu uL da okubouraLtou asu femaza suni moL , o etme kut Lufda sekfamo . fa uamu ieqo huvuin a oife zefaeL huvuin Lamza jezeneroteaL , oxe huvin da hitiva asu siLomamoqemta . eLe uamu uL a Taibmo oabet . qqi Lefhi uamu so qqu aLaLuie hazoet . ubouLta a qooLuhmo oqoLu o etme jesus . uuLTarimna eLemza famhiT . uama eLikam qemhe eLem . eLe uamu da guLikagnipuvLa buuge asu da suni botav . eLe uamu da qazuhat , oxe eLe uamo cutobabounoni qufge asu eLemza zefaeL . eLe uamu da vacu asu vacuT . eLe unaugou uL eLemza fiTam oxe eLe uzeTu fema , etme jesus . def uamu eLem ukekfatuLka tu da gabuTaeT . uvera hazani da oTaib , o etme niudeL oxe uTazuouza eLemza iLinuT , da iLinuT asu voose oxe uma huvuin bom siLomamoqemta . mi uamu vaemamo , Tiezmo jentuu asu aLaLuie hazoet . unata dava tupa uL toerehu oxe aL da iovTa , etme kut . dava uamu boncaL etmeT oxe boncaL eLkanim oxe boncaL kutim , pit dava uamu oemueni eLikam aLaLuie hazoet , da etme kut Lufda sekfamo . Lam ujonmu obam da suni botav pi moL , hazoet . a movotezamo zuuxi . uhaima da suni samgu adaLao uLuzauLka uL femaza vionahu oxe femaza feima uamu jumduLoutmo qemhe da suni samgu . uLuzaa femaza feima uL da samgu . fa uvafbaLTu tu femaza ounequLeduum . ujonma obam da suni samgu pi moL . adaLao , fema uamo zumtizhinmo oxe qooLuhmo . utusea Lavexu oxe uLuzaa uL da fiTamim asu da etmeT oxe onoTim asu toerehu oxe iovTa fu idta Lam uqaLaru a oeqi asu voose oxe goLurizfonmo obzahbavudu huvuin bom da kuumim asu iovTa , huvazav , uL a kaziotmo qindemo oinbeva , huvazav , aut enamku da tasduT . '"
      ]
     },
     "execution_count": 40,
     "metadata": {},
     "output_type": "execute_result"
    }
   ],
   "source": [
    "su_ = \"\"\n",
    "\n",
    "\n",
    "for L_ in LL_:\n",
    "    su_ += f'{L_[1].strip()} '\n",
    "\n",
    "su_"
   ]
  },
  {
   "cell_type": "code",
   "execution_count": null,
   "id": "94d3d6d0",
   "metadata": {},
   "outputs": [],
   "source": []
  },
  {
   "cell_type": "code",
   "execution_count": null,
   "id": "915b043f",
   "metadata": {},
   "outputs": [],
   "source": []
  }
 ],
 "metadata": {
  "kernelspec": {
   "display_name": "Python 3 (ipykernel)",
   "language": "python",
   "name": "python3"
  },
  "language_info": {
   "codemirror_mode": {
    "name": "ipython",
    "version": 3
   },
   "file_extension": ".py",
   "mimetype": "text/x-python",
   "name": "python",
   "nbconvert_exporter": "python",
   "pygments_lexer": "ipython3",
   "version": "3.9.13"
  }
 },
 "nbformat": 4,
 "nbformat_minor": 5
}
